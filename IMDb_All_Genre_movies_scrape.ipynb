{
 "cells": [
  {
   "cell_type": "code",
   "execution_count": 1,
   "metadata": {},
   "outputs": [],
   "source": [
    "from bs4 import BeautifulSoup as soup\n",
    "import requests as req\n",
    "import pandas as pd"
   ]
  },
  {
   "cell_type": "code",
   "execution_count": 2,
   "metadata": {},
   "outputs": [
    {
     "name": "stdout",
     "output_type": "stream",
     "text": [
      "(1250, 7)\n",
      "(1000, 7)\n",
      "(250, 7)\n",
      "(300, 7)\n",
      "(1650, 7)\n",
      "(950, 7)\n",
      "(2450, 7)\n",
      "(450, 7)\n",
      "(600, 7)\n",
      "(150, 7)\n",
      "(550, 7)\n",
      "(100, 7)\n",
      "(100, 7)\n",
      "(600, 7)\n",
      "(950, 7)\n",
      "(650, 7)\n",
      "(150, 7)\n",
      "(1600, 7)\n",
      "(200, 7)\n",
      "(50, 7)\n"
     ]
    }
   ],
   "source": [
    "#List of Movies Genres\n",
    "movies_genre = ['Action','Adventure','Animation','Biography','Comedy','Crime','Drama','Family','Fantasy'\n",
    "               ,'History','Horror','Music','Musical','Mystery','Romance','Sci-Fi','Sport','Thriller','War','Western']\n",
    "\n",
    "# Starting Link\n",
    "main_url = 'https://www.imdb.com/search/title?title_type=feature&num_votes=25000,&genres='\n",
    "\n",
    "#Create the links for every genre of movie\n",
    "for genre in movies_genre:\n",
    "    #create Link\n",
    "    link = main_url+genre+'&start='\n",
    "    base_url = req.get(link)\n",
    "    Content = base_url.content\n",
    "    #convert into the soup\n",
    "    page = soup(Content,'html.parser')\n",
    "    #find the number of movies\n",
    "    div = page.find('div',{'class':'desc'})\n",
    "    txt = div.find('span').text\n",
    "    txt_str = txt.split()\n",
    "    #convert string to inter \n",
    "    if(len(txt_str[2])>4):\n",
    "        page_number = txt_str[2]\n",
    "        page_number = page_number[0]+page_number[2:]\n",
    "    else:\n",
    "        page_number = txt_str[2]\n",
    "    #Find the number of pages for every genre of movie\n",
    "    total_pages = int(int(page_number)/50)\n",
    "    #print(genre,total_pages,\" Number of pages were found\")\n",
    "    \n",
    "    #DataSet for the movies\n",
    "    DataSet = []\n",
    "    p = 0\n",
    "    page_num = 1\n",
    "    while(p<total_pages):\n",
    "        next_link = main_url+str(page_num)\n",
    "        next_page = req.get(next_link)\n",
    "        Cont=next_page.content\n",
    "        soup_page=soup(Cont,\"html.parser\")\n",
    "        movies_container=soup_page.find_all(\"div\",{\"class\":\"lister-item-content\"})\n",
    "        number_of_moives = len(movies_container)\n",
    "        i = 0\n",
    "        while(i<number_of_moives):\n",
    "            movies = {}\n",
    "            m = movies_container[i]\n",
    "            try:\n",
    "                movies['Name'] = m.find(class_='lister-item-header').get_text(strip=True)\n",
    "            except AttributeError:\n",
    "                moves['Name'] = None\n",
    "            try:\n",
    "                movies['Certificate'] = m.find(class_='certificate').get_text(strip=True)\n",
    "            except AttributeError:\n",
    "                movies['Certificate'] = 'Not Rated'\n",
    "            try:\n",
    "                movies['Runtime'] = m.find(class_='runtime').get_text(strip=True)\n",
    "            except AttributeError:\n",
    "                movies['Runtime'] = None\n",
    "            try:\n",
    "                movies['Genre'] = m.find(class_='genre').get_text(strip=True)\n",
    "            except AttributeError:\n",
    "                movies['Genre'] = None\n",
    "            try:\n",
    "                movies['Rating'] = m.find(class_='inline-block ratings-imdb-rating').get_text(strip=True)\n",
    "            except AttributeError:\n",
    "                movies['Rating'] = None\n",
    "            try:\n",
    "                movies['Metascore'] = m.find(class_='inline-block ratings-metascore').get_text(strip=True)\n",
    "            except AttributeError:\n",
    "                movies['Metascore'] = None\n",
    "            try:\n",
    "                votes_and_gross = m.find(class_='sort-num_votes-visible').get_text(strip=True)\n",
    "                v= votes_and_gross.split('|')\n",
    "                n = v[0].split(':')#\n",
    "                movies['Votes'] = n[1]\n",
    "            except AttributeError:\n",
    "                movies['Votes'] = None\n",
    "            i = i + 1\n",
    "            DataSet.append(movies)\n",
    "        page_num = page_num+50\n",
    "        p = p+1\n",
    "    dataframe = pd.DataFrame(DataSet)\n",
    "    dataframe['Name'].iloc[0:9] = dataframe['Name'].iloc[0:9].astype(str).str[2:]\n",
    "    dataframe['Name'].iloc[9:] = dataframe['Name'].iloc[9:].astype(str).str[3:]\n",
    "    dataframe['Metascore'] = dataframe['Metascore'].astype(str).str[0:2]\n",
    "    print(dataframe.shape)\n",
    "    col_names = [\"Name\",\"Certificate\",'Runtime',\"Genre\",\"Rating\",'Metascore',\"Votes\"]\n",
    "    dataframe = dataframe.reindex(columns=col_names)\n",
    "    dataframe.to_csv(genre+\".csv\",index=False)"
   ]
  },
  {
   "cell_type": "code",
   "execution_count": 3,
   "metadata": {},
   "outputs": [
    {
     "data": {
      "text/html": [
       "<div>\n",
       "<style scoped>\n",
       "    .dataframe tbody tr th:only-of-type {\n",
       "        vertical-align: middle;\n",
       "    }\n",
       "\n",
       "    .dataframe tbody tr th {\n",
       "        vertical-align: top;\n",
       "    }\n",
       "\n",
       "    .dataframe thead th {\n",
       "        text-align: right;\n",
       "    }\n",
       "</style>\n",
       "<table border=\"1\" class=\"dataframe\">\n",
       "  <thead>\n",
       "    <tr style=\"text-align: right;\">\n",
       "      <th></th>\n",
       "      <th>Name</th>\n",
       "      <th>Certificate</th>\n",
       "      <th>Runtime</th>\n",
       "      <th>Genre</th>\n",
       "      <th>Rating</th>\n",
       "      <th>Metascore</th>\n",
       "      <th>Votes</th>\n",
       "    </tr>\n",
       "  </thead>\n",
       "  <tbody>\n",
       "    <tr>\n",
       "      <th>0</th>\n",
       "      <td>Captain Marvel(2019)</td>\n",
       "      <td>PG-13</td>\n",
       "      <td>123 min</td>\n",
       "      <td>Action, Adventure, Sci-Fi</td>\n",
       "      <td>7.1</td>\n",
       "      <td>64</td>\n",
       "      <td>138,904</td>\n",
       "    </tr>\n",
       "    <tr>\n",
       "      <th>1</th>\n",
       "      <td>Bohemian Rhapsody(2018)</td>\n",
       "      <td>PG-13</td>\n",
       "      <td>134 min</td>\n",
       "      <td>Biography, Drama, Music</td>\n",
       "      <td>8.1</td>\n",
       "      <td>49</td>\n",
       "      <td>298,507</td>\n",
       "    </tr>\n",
       "    <tr>\n",
       "      <th>2</th>\n",
       "      <td>Green Book(2018)</td>\n",
       "      <td>PG-13</td>\n",
       "      <td>130 min</td>\n",
       "      <td>Biography, Comedy, Drama</td>\n",
       "      <td>8.3</td>\n",
       "      <td>69</td>\n",
       "      <td>138,886</td>\n",
       "    </tr>\n",
       "    <tr>\n",
       "      <th>3</th>\n",
       "      <td>Alita: Battle Angel(2019)</td>\n",
       "      <td>PG-13</td>\n",
       "      <td>122 min</td>\n",
       "      <td>Action, Adventure, Romance</td>\n",
       "      <td>7.6</td>\n",
       "      <td>54</td>\n",
       "      <td>72,938</td>\n",
       "    </tr>\n",
       "    <tr>\n",
       "      <th>4</th>\n",
       "      <td>A Star Is Born(2018)</td>\n",
       "      <td>R</td>\n",
       "      <td>136 min</td>\n",
       "      <td>Drama, Music, Romance</td>\n",
       "      <td>7.8</td>\n",
       "      <td>88</td>\n",
       "      <td>215,338</td>\n",
       "    </tr>\n",
       "  </tbody>\n",
       "</table>\n",
       "</div>"
      ],
      "text/plain": [
       "                        Name Certificate  Runtime                       Genre  \\\n",
       "0       Captain Marvel(2019)       PG-13  123 min   Action, Adventure, Sci-Fi   \n",
       "1    Bohemian Rhapsody(2018)       PG-13  134 min     Biography, Drama, Music   \n",
       "2           Green Book(2018)       PG-13  130 min    Biography, Comedy, Drama   \n",
       "3  Alita: Battle Angel(2019)       PG-13  122 min  Action, Adventure, Romance   \n",
       "4       A Star Is Born(2018)           R  136 min       Drama, Music, Romance   \n",
       "\n",
       "   Rating  Metascore    Votes  \n",
       "0     7.1         64  138,904  \n",
       "1     8.1         49  298,507  \n",
       "2     8.3         69  138,886  \n",
       "3     7.6         54   72,938  \n",
       "4     7.8         88  215,338  "
      ]
     },
     "execution_count": 3,
     "metadata": {},
     "output_type": "execute_result"
    }
   ],
   "source": [
    "action = pd.read_csv('Action.csv')\n",
    "action.head()"
   ]
  },
  {
   "cell_type": "code",
   "execution_count": 4,
   "metadata": {},
   "outputs": [
    {
     "data": {
      "text/html": [
       "<div>\n",
       "<style scoped>\n",
       "    .dataframe tbody tr th:only-of-type {\n",
       "        vertical-align: middle;\n",
       "    }\n",
       "\n",
       "    .dataframe tbody tr th {\n",
       "        vertical-align: top;\n",
       "    }\n",
       "\n",
       "    .dataframe thead th {\n",
       "        text-align: right;\n",
       "    }\n",
       "</style>\n",
       "<table border=\"1\" class=\"dataframe\">\n",
       "  <thead>\n",
       "    <tr style=\"text-align: right;\">\n",
       "      <th></th>\n",
       "      <th>Name</th>\n",
       "    </tr>\n",
       "    <tr>\n",
       "      <th>Certificate</th>\n",
       "      <th></th>\n",
       "    </tr>\n",
       "  </thead>\n",
       "  <tbody>\n",
       "    <tr>\n",
       "      <th>Not Rated</th>\n",
       "      <td>25</td>\n",
       "    </tr>\n",
       "    <tr>\n",
       "      <th>PG</th>\n",
       "      <td>150</td>\n",
       "    </tr>\n",
       "    <tr>\n",
       "      <th>PG-13</th>\n",
       "      <td>700</td>\n",
       "    </tr>\n",
       "    <tr>\n",
       "      <th>R</th>\n",
       "      <td>375</td>\n",
       "    </tr>\n",
       "  </tbody>\n",
       "</table>\n",
       "</div>"
      ],
      "text/plain": [
       "             Name\n",
       "Certificate      \n",
       "Not Rated      25\n",
       "PG            150\n",
       "PG-13         700\n",
       "R             375"
      ]
     },
     "execution_count": 4,
     "metadata": {},
     "output_type": "execute_result"
    }
   ],
   "source": [
    "action[['Certificate','Name']].groupby('Certificate').count()"
   ]
  },
  {
   "cell_type": "code",
   "execution_count": 5,
   "metadata": {},
   "outputs": [],
   "source": [
    "%matplotlib inline\n",
    "import matplotlib.pyplot as plt"
   ]
  },
  {
   "cell_type": "code",
   "execution_count": 6,
   "metadata": {},
   "outputs": [
    {
     "data": {
      "text/plain": [
       "Text(0, 0.5, 'Title Count')"
      ]
     },
     "execution_count": 6,
     "metadata": {},
     "output_type": "execute_result"
    },
    {
     "data": {
      "image/png": "[encoded data removed]",
      "text/plain": [
       "<Figure size 432x288 with 1 Axes>"
      ]
     },
     "metadata": {
      "needs_background": "light"
     },
     "output_type": "display_data"
    }
   ],
   "source": [
    "action[['Certificate','Name']].groupby('Certificate').count().plot(kind='bar', title='Movie Certificate Visualization')\n",
    "plt.xlabel('Moive Certificate')\n",
    "plt.ylabel('Title Count')"
   ]
  },
  {
   "cell_type": "code",
   "execution_count": 7,
   "metadata": {},
   "outputs": [
    {
     "data": {
      "text/html": [
       "<div>\n",
       "<style scoped>\n",
       "    .dataframe tbody tr th:only-of-type {\n",
       "        vertical-align: middle;\n",
       "    }\n",
       "\n",
       "    .dataframe tbody tr th {\n",
       "        vertical-align: top;\n",
       "    }\n",
       "\n",
       "    .dataframe thead th {\n",
       "        text-align: right;\n",
       "    }\n",
       "</style>\n",
       "<table border=\"1\" class=\"dataframe\">\n",
       "  <thead>\n",
       "    <tr style=\"text-align: right;\">\n",
       "      <th></th>\n",
       "      <th>Name</th>\n",
       "      <th>Certificate</th>\n",
       "      <th>Runtime</th>\n",
       "      <th>Genre</th>\n",
       "      <th>Rating</th>\n",
       "      <th>Metascore</th>\n",
       "      <th>Votes</th>\n",
       "    </tr>\n",
       "  </thead>\n",
       "  <tbody>\n",
       "    <tr>\n",
       "      <th>0</th>\n",
       "      <td>Captain Marvel(2019)</td>\n",
       "      <td>PG-13</td>\n",
       "      <td>123 min</td>\n",
       "      <td>Action, Adventure, Sci-Fi</td>\n",
       "      <td>7.1</td>\n",
       "      <td>64</td>\n",
       "      <td>138,904</td>\n",
       "    </tr>\n",
       "    <tr>\n",
       "      <th>1</th>\n",
       "      <td>Bohemian Rhapsody(2018)</td>\n",
       "      <td>PG-13</td>\n",
       "      <td>134 min</td>\n",
       "      <td>Biography, Drama, Music</td>\n",
       "      <td>8.1</td>\n",
       "      <td>49</td>\n",
       "      <td>298,507</td>\n",
       "    </tr>\n",
       "    <tr>\n",
       "      <th>2</th>\n",
       "      <td>Green Book(2018)</td>\n",
       "      <td>PG-13</td>\n",
       "      <td>130 min</td>\n",
       "      <td>Biography, Comedy, Drama</td>\n",
       "      <td>8.3</td>\n",
       "      <td>69</td>\n",
       "      <td>138,886</td>\n",
       "    </tr>\n",
       "    <tr>\n",
       "      <th>3</th>\n",
       "      <td>Alita: Battle Angel(2019)</td>\n",
       "      <td>PG-13</td>\n",
       "      <td>122 min</td>\n",
       "      <td>Action, Adventure, Romance</td>\n",
       "      <td>7.6</td>\n",
       "      <td>54</td>\n",
       "      <td>72,938</td>\n",
       "    </tr>\n",
       "    <tr>\n",
       "      <th>4</th>\n",
       "      <td>A Star Is Born(2018)</td>\n",
       "      <td>R</td>\n",
       "      <td>136 min</td>\n",
       "      <td>Drama, Music, Romance</td>\n",
       "      <td>7.8</td>\n",
       "      <td>88</td>\n",
       "      <td>215,338</td>\n",
       "    </tr>\n",
       "  </tbody>\n",
       "</table>\n",
       "</div>"
      ],
      "text/plain": [
       "                        Name Certificate  Runtime                       Genre  \\\n",
       "0       Captain Marvel(2019)       PG-13  123 min   Action, Adventure, Sci-Fi   \n",
       "1    Bohemian Rhapsody(2018)       PG-13  134 min     Biography, Drama, Music   \n",
       "2           Green Book(2018)       PG-13  130 min    Biography, Comedy, Drama   \n",
       "3  Alita: Battle Angel(2019)       PG-13  122 min  Action, Adventure, Romance   \n",
       "4       A Star Is Born(2018)           R  136 min       Drama, Music, Romance   \n",
       "\n",
       "   Rating  Metascore    Votes  \n",
       "0     7.1         64  138,904  \n",
       "1     8.1         49  298,507  \n",
       "2     8.3         69  138,886  \n",
       "3     7.6         54   72,938  \n",
       "4     7.8         88  215,338  "
      ]
     },
     "execution_count": 7,
     "metadata": {},
     "output_type": "execute_result"
    }
   ],
   "source": [
    "drama = pd.read_csv('Drama.csv')\n",
    "drama.head()"
   ]
  },
  {
   "cell_type": "code",
   "execution_count": 8,
   "metadata": {},
   "outputs": [
    {
     "data": {
      "text/html": [
       "<div>\n",
       "<style scoped>\n",
       "    .dataframe tbody tr th:only-of-type {\n",
       "        vertical-align: middle;\n",
       "    }\n",
       "\n",
       "    .dataframe tbody tr th {\n",
       "        vertical-align: top;\n",
       "    }\n",
       "\n",
       "    .dataframe thead th {\n",
       "        text-align: right;\n",
       "    }\n",
       "</style>\n",
       "<table border=\"1\" class=\"dataframe\">\n",
       "  <thead>\n",
       "    <tr style=\"text-align: right;\">\n",
       "      <th></th>\n",
       "      <th>Name</th>\n",
       "    </tr>\n",
       "    <tr>\n",
       "      <th>Certificate</th>\n",
       "      <th></th>\n",
       "    </tr>\n",
       "  </thead>\n",
       "  <tbody>\n",
       "    <tr>\n",
       "      <th>Not Rated</th>\n",
       "      <td>49</td>\n",
       "    </tr>\n",
       "    <tr>\n",
       "      <th>PG</th>\n",
       "      <td>294</td>\n",
       "    </tr>\n",
       "    <tr>\n",
       "      <th>PG-13</th>\n",
       "      <td>1372</td>\n",
       "    </tr>\n",
       "    <tr>\n",
       "      <th>R</th>\n",
       "      <td>735</td>\n",
       "    </tr>\n",
       "  </tbody>\n",
       "</table>\n",
       "</div>"
      ],
      "text/plain": [
       "             Name\n",
       "Certificate      \n",
       "Not Rated      49\n",
       "PG            294\n",
       "PG-13        1372\n",
       "R             735"
      ]
     },
     "execution_count": 8,
     "metadata": {},
     "output_type": "execute_result"
    }
   ],
   "source": [
    "drama[['Certificate','Name']].groupby('Certificate').count()"
   ]
  },
  {
   "cell_type": "code",
   "execution_count": 9,
   "metadata": {},
   "outputs": [
    {
     "data": {
      "text/plain": [
       "2450"
      ]
     },
     "execution_count": 9,
     "metadata": {},
     "output_type": "execute_result"
    }
   ],
   "source": [
    "len(drama['Name'])"
   ]
  },
  {
   "cell_type": "code",
   "execution_count": 10,
   "metadata": {},
   "outputs": [
    {
     "data": {
      "text/plain": [
       "Text(0, 0.5, 'Title Count')"
      ]
     },
     "execution_count": 10,
     "metadata": {},
     "output_type": "execute_result"
    },
    {
     "data": {
      "image/png": "[encoded data removed]",
      "text/plain": [
       "<Figure size 432x288 with 1 Axes>"
      ]
     },
     "metadata": {
      "needs_background": "light"
     },
     "output_type": "display_data"
    }
   ],
   "source": [
    "drama[['Certificate','Name']].groupby('Certificate').count().plot(kind='bar', title='Movie Certificate Visualization')\n",
    "plt.xlabel('Moive Certificate')\n",
    "plt.ylabel('Title Count')"
   ]
  },
  {
   "cell_type": "code",
   "execution_count": 13,
   "metadata": {},
   "outputs": [
    {
     "data": {
      "text/html": [
       "<div>\n",
       "<style scoped>\n",
       "    .dataframe tbody tr th:only-of-type {\n",
       "        vertical-align: middle;\n",
       "    }\n",
       "\n",
       "    .dataframe tbody tr th {\n",
       "        vertical-align: top;\n",
       "    }\n",
       "\n",
       "    .dataframe thead th {\n",
       "        text-align: right;\n",
       "    }\n",
       "</style>\n",
       "<table border=\"1\" class=\"dataframe\">\n",
       "  <thead>\n",
       "    <tr style=\"text-align: right;\">\n",
       "      <th></th>\n",
       "      <th>Name</th>\n",
       "      <th>Certificate</th>\n",
       "      <th>Runtime</th>\n",
       "      <th>Genre</th>\n",
       "      <th>Rating</th>\n",
       "      <th>Metascore</th>\n",
       "      <th>Votes</th>\n",
       "    </tr>\n",
       "  </thead>\n",
       "  <tbody>\n",
       "    <tr>\n",
       "      <th>0</th>\n",
       "      <td>Captain Marvel(2019)</td>\n",
       "      <td>PG-13</td>\n",
       "      <td>123 min</td>\n",
       "      <td>Action, Adventure, Sci-Fi</td>\n",
       "      <td>7.1</td>\n",
       "      <td>64</td>\n",
       "      <td>138,904</td>\n",
       "    </tr>\n",
       "    <tr>\n",
       "      <th>1</th>\n",
       "      <td>Bohemian Rhapsody(2018)</td>\n",
       "      <td>PG-13</td>\n",
       "      <td>134 min</td>\n",
       "      <td>Biography, Drama, Music</td>\n",
       "      <td>8.1</td>\n",
       "      <td>49</td>\n",
       "      <td>298,507</td>\n",
       "    </tr>\n",
       "    <tr>\n",
       "      <th>2</th>\n",
       "      <td>Green Book(2018)</td>\n",
       "      <td>PG-13</td>\n",
       "      <td>130 min</td>\n",
       "      <td>Biography, Comedy, Drama</td>\n",
       "      <td>8.3</td>\n",
       "      <td>69</td>\n",
       "      <td>138,886</td>\n",
       "    </tr>\n",
       "    <tr>\n",
       "      <th>3</th>\n",
       "      <td>Alita: Battle Angel(2019)</td>\n",
       "      <td>PG-13</td>\n",
       "      <td>122 min</td>\n",
       "      <td>Action, Adventure, Romance</td>\n",
       "      <td>7.6</td>\n",
       "      <td>54</td>\n",
       "      <td>72,938</td>\n",
       "    </tr>\n",
       "    <tr>\n",
       "      <th>4</th>\n",
       "      <td>A Star Is Born(2018)</td>\n",
       "      <td>R</td>\n",
       "      <td>136 min</td>\n",
       "      <td>Drama, Music, Romance</td>\n",
       "      <td>7.8</td>\n",
       "      <td>88</td>\n",
       "      <td>215,338</td>\n",
       "    </tr>\n",
       "  </tbody>\n",
       "</table>\n",
       "</div>"
      ],
      "text/plain": [
       "                        Name Certificate  Runtime                       Genre  \\\n",
       "0       Captain Marvel(2019)       PG-13  123 min   Action, Adventure, Sci-Fi   \n",
       "1    Bohemian Rhapsody(2018)       PG-13  134 min     Biography, Drama, Music   \n",
       "2           Green Book(2018)       PG-13  130 min    Biography, Comedy, Drama   \n",
       "3  Alita: Battle Angel(2019)       PG-13  122 min  Action, Adventure, Romance   \n",
       "4       A Star Is Born(2018)           R  136 min       Drama, Music, Romance   \n",
       "\n",
       "   Rating  Metascore    Votes  \n",
       "0     7.1         64  138,904  \n",
       "1     8.1         49  298,507  \n",
       "2     8.3         69  138,886  \n",
       "3     7.6         54   72,938  \n",
       "4     7.8         88  215,338  "
      ]
     },
     "execution_count": 13,
     "metadata": {},
     "output_type": "execute_result"
    }
   ],
   "source": [
    "romance = pd.read_csv('Romance.csv')\n",
    "romance.head()"
   ]
  },
  {
   "cell_type": "code",
   "execution_count": 15,
   "metadata": {},
   "outputs": [
    {
     "data": {
      "text/html": [
       "<div>\n",
       "<style scoped>\n",
       "    .dataframe tbody tr th:only-of-type {\n",
       "        vertical-align: middle;\n",
       "    }\n",
       "\n",
       "    .dataframe tbody tr th {\n",
       "        vertical-align: top;\n",
       "    }\n",
       "\n",
       "    .dataframe thead th {\n",
       "        text-align: right;\n",
       "    }\n",
       "</style>\n",
       "<table border=\"1\" class=\"dataframe\">\n",
       "  <thead>\n",
       "    <tr style=\"text-align: right;\">\n",
       "      <th></th>\n",
       "      <th>Name</th>\n",
       "    </tr>\n",
       "    <tr>\n",
       "      <th>Certificate</th>\n",
       "      <th></th>\n",
       "    </tr>\n",
       "  </thead>\n",
       "  <tbody>\n",
       "    <tr>\n",
       "      <th>Not Rated</th>\n",
       "      <td>19</td>\n",
       "    </tr>\n",
       "    <tr>\n",
       "      <th>PG</th>\n",
       "      <td>114</td>\n",
       "    </tr>\n",
       "    <tr>\n",
       "      <th>PG-13</th>\n",
       "      <td>532</td>\n",
       "    </tr>\n",
       "    <tr>\n",
       "      <th>R</th>\n",
       "      <td>285</td>\n",
       "    </tr>\n",
       "  </tbody>\n",
       "</table>\n",
       "</div>"
      ],
      "text/plain": [
       "             Name\n",
       "Certificate      \n",
       "Not Rated      19\n",
       "PG            114\n",
       "PG-13         532\n",
       "R             285"
      ]
     },
     "execution_count": 15,
     "metadata": {},
     "output_type": "execute_result"
    }
   ],
   "source": [
    "romance[['Certificate','Name']].groupby('Certificate').count()"
   ]
  },
  {
   "cell_type": "code",
   "execution_count": 16,
   "metadata": {},
   "outputs": [
    {
     "data": {
      "text/plain": [
       "Text(0, 0.5, 'Title Count')"
      ]
     },
     "execution_count": 16,
     "metadata": {},
     "output_type": "execute_result"
    },
    {
     "data": {
      "image/png": "[encoded data removed]",
      "text/plain": [
       "<Figure size 432x288 with 1 Axes>"
      ]
     },
     "metadata": {
      "needs_background": "light"
     },
     "output_type": "display_data"
    }
   ],
   "source": [
    "romance[['Certificate','Name']].groupby('Certificate').count().plot(kind='bar', title='Movie Certificate Visualization')\n",
    "plt.xlabel('Moive Certificate')\n",
    "plt.ylabel('Title Count')"
   ]
  },
  {
   "cell_type": "code",
   "execution_count": 14,
   "metadata": {},
   "outputs": [
    {
     "data": {
      "text/html": [
       "<div>\n",
       "<style scoped>\n",
       "    .dataframe tbody tr th:only-of-type {\n",
       "        vertical-align: middle;\n",
       "    }\n",
       "\n",
       "    .dataframe tbody tr th {\n",
       "        vertical-align: top;\n",
       "    }\n",
       "\n",
       "    .dataframe thead th {\n",
       "        text-align: right;\n",
       "    }\n",
       "</style>\n",
       "<table border=\"1\" class=\"dataframe\">\n",
       "  <thead>\n",
       "    <tr style=\"text-align: right;\">\n",
       "      <th></th>\n",
       "      <th>Name</th>\n",
       "      <th>Certificate</th>\n",
       "      <th>Runtime</th>\n",
       "      <th>Genre</th>\n",
       "      <th>Rating</th>\n",
       "      <th>Metascore</th>\n",
       "      <th>Votes</th>\n",
       "    </tr>\n",
       "  </thead>\n",
       "  <tbody>\n",
       "    <tr>\n",
       "      <th>0</th>\n",
       "      <td>Captain Marvel(2019)</td>\n",
       "      <td>PG-13</td>\n",
       "      <td>123 min</td>\n",
       "      <td>Action, Adventure, Sci-Fi</td>\n",
       "      <td>7.1</td>\n",
       "      <td>64</td>\n",
       "      <td>138,904</td>\n",
       "    </tr>\n",
       "    <tr>\n",
       "      <th>1</th>\n",
       "      <td>Bohemian Rhapsody(2018)</td>\n",
       "      <td>PG-13</td>\n",
       "      <td>134 min</td>\n",
       "      <td>Biography, Drama, Music</td>\n",
       "      <td>8.1</td>\n",
       "      <td>49</td>\n",
       "      <td>298,507</td>\n",
       "    </tr>\n",
       "    <tr>\n",
       "      <th>2</th>\n",
       "      <td>Green Book(2018)</td>\n",
       "      <td>PG-13</td>\n",
       "      <td>130 min</td>\n",
       "      <td>Biography, Comedy, Drama</td>\n",
       "      <td>8.3</td>\n",
       "      <td>69</td>\n",
       "      <td>138,886</td>\n",
       "    </tr>\n",
       "    <tr>\n",
       "      <th>3</th>\n",
       "      <td>Alita: Battle Angel(2019)</td>\n",
       "      <td>PG-13</td>\n",
       "      <td>122 min</td>\n",
       "      <td>Action, Adventure, Romance</td>\n",
       "      <td>7.6</td>\n",
       "      <td>54</td>\n",
       "      <td>72,938</td>\n",
       "    </tr>\n",
       "    <tr>\n",
       "      <th>4</th>\n",
       "      <td>A Star Is Born(2018)</td>\n",
       "      <td>R</td>\n",
       "      <td>136 min</td>\n",
       "      <td>Drama, Music, Romance</td>\n",
       "      <td>7.8</td>\n",
       "      <td>88</td>\n",
       "      <td>215,338</td>\n",
       "    </tr>\n",
       "  </tbody>\n",
       "</table>\n",
       "</div>"
      ],
      "text/plain": [
       "                        Name Certificate  Runtime                       Genre  \\\n",
       "0       Captain Marvel(2019)       PG-13  123 min   Action, Adventure, Sci-Fi   \n",
       "1    Bohemian Rhapsody(2018)       PG-13  134 min     Biography, Drama, Music   \n",
       "2           Green Book(2018)       PG-13  130 min    Biography, Comedy, Drama   \n",
       "3  Alita: Battle Angel(2019)       PG-13  122 min  Action, Adventure, Romance   \n",
       "4       A Star Is Born(2018)           R  136 min       Drama, Music, Romance   \n",
       "\n",
       "   Rating  Metascore    Votes  \n",
       "0     7.1         64  138,904  \n",
       "1     8.1         49  298,507  \n",
       "2     8.3         69  138,886  \n",
       "3     7.6         54   72,938  \n",
       "4     7.8         88  215,338  "
      ]
     },
     "execution_count": 14,
     "metadata": {},
     "output_type": "execute_result"
    }
   ],
   "source": [
    "horror = pd.read_csv('horror.csv')\n",
    "horror.head()"
   ]
  },
  {
   "cell_type": "code",
   "execution_count": 17,
   "metadata": {},
   "outputs": [
    {
     "data": {
      "text/html": [
       "<div>\n",
       "<style scoped>\n",
       "    .dataframe tbody tr th:only-of-type {\n",
       "        vertical-align: middle;\n",
       "    }\n",
       "\n",
       "    .dataframe tbody tr th {\n",
       "        vertical-align: top;\n",
       "    }\n",
       "\n",
       "    .dataframe thead th {\n",
       "        text-align: right;\n",
       "    }\n",
       "</style>\n",
       "<table border=\"1\" class=\"dataframe\">\n",
       "  <thead>\n",
       "    <tr style=\"text-align: right;\">\n",
       "      <th></th>\n",
       "      <th>Name</th>\n",
       "    </tr>\n",
       "    <tr>\n",
       "      <th>Certificate</th>\n",
       "      <th></th>\n",
       "    </tr>\n",
       "  </thead>\n",
       "  <tbody>\n",
       "    <tr>\n",
       "      <th>Not Rated</th>\n",
       "      <td>11</td>\n",
       "    </tr>\n",
       "    <tr>\n",
       "      <th>PG</th>\n",
       "      <td>66</td>\n",
       "    </tr>\n",
       "    <tr>\n",
       "      <th>PG-13</th>\n",
       "      <td>308</td>\n",
       "    </tr>\n",
       "    <tr>\n",
       "      <th>R</th>\n",
       "      <td>165</td>\n",
       "    </tr>\n",
       "  </tbody>\n",
       "</table>\n",
       "</div>"
      ],
      "text/plain": [
       "             Name\n",
       "Certificate      \n",
       "Not Rated      11\n",
       "PG             66\n",
       "PG-13         308\n",
       "R             165"
      ]
     },
     "execution_count": 17,
     "metadata": {},
     "output_type": "execute_result"
    }
   ],
   "source": [
    "horror[['Certificate','Name']].groupby('Certificate').count()"
   ]
  },
  {
   "cell_type": "code",
   "execution_count": 18,
   "metadata": {},
   "outputs": [
    {
     "data": {
      "text/plain": [
       "Text(0, 0.5, 'Title Count')"
      ]
     },
     "execution_count": 18,
     "metadata": {},
     "output_type": "execute_result"
    },
    {
     "data": {
      "image/png": "[encoded data removed]",
      "text/plain": [
       "<Figure size 432x288 with 1 Axes>"
      ]
     },
     "metadata": {
      "needs_background": "light"
     },
     "output_type": "display_data"
    }
   ],
   "source": [
    "horror[['Certificate','Name']].groupby('Certificate').count().plot(kind='bar', title='Movie Certificate Visualization')\n",
    "plt.xlabel('Moive Certificate')\n",
    "plt.ylabel('Title Count')"
   ]
  },
  {
   "cell_type": "code",
   "execution_count": 19,
   "metadata": {},
   "outputs": [
    {
     "data": {
      "text/html": [
       "<div>\n",
       "<style scoped>\n",
       "    .dataframe tbody tr th:only-of-type {\n",
       "        vertical-align: middle;\n",
       "    }\n",
       "\n",
       "    .dataframe tbody tr th {\n",
       "        vertical-align: top;\n",
       "    }\n",
       "\n",
       "    .dataframe thead th {\n",
       "        text-align: right;\n",
       "    }\n",
       "</style>\n",
       "<table border=\"1\" class=\"dataframe\">\n",
       "  <thead>\n",
       "    <tr style=\"text-align: right;\">\n",
       "      <th></th>\n",
       "      <th>Name</th>\n",
       "      <th>Certificate</th>\n",
       "      <th>Runtime</th>\n",
       "      <th>Genre</th>\n",
       "      <th>Rating</th>\n",
       "      <th>Metascore</th>\n",
       "      <th>Votes</th>\n",
       "    </tr>\n",
       "  </thead>\n",
       "  <tbody>\n",
       "    <tr>\n",
       "      <th>0</th>\n",
       "      <td>Captain Marvel(2019)</td>\n",
       "      <td>PG-13</td>\n",
       "      <td>123 min</td>\n",
       "      <td>Action, Adventure, Sci-Fi</td>\n",
       "      <td>7.1</td>\n",
       "      <td>64</td>\n",
       "      <td>138,904</td>\n",
       "    </tr>\n",
       "    <tr>\n",
       "      <th>1</th>\n",
       "      <td>Bohemian Rhapsody(2018)</td>\n",
       "      <td>PG-13</td>\n",
       "      <td>134 min</td>\n",
       "      <td>Biography, Drama, Music</td>\n",
       "      <td>8.1</td>\n",
       "      <td>49</td>\n",
       "      <td>298,507</td>\n",
       "    </tr>\n",
       "    <tr>\n",
       "      <th>2</th>\n",
       "      <td>Green Book(2018)</td>\n",
       "      <td>PG-13</td>\n",
       "      <td>130 min</td>\n",
       "      <td>Biography, Comedy, Drama</td>\n",
       "      <td>8.3</td>\n",
       "      <td>69</td>\n",
       "      <td>138,886</td>\n",
       "    </tr>\n",
       "    <tr>\n",
       "      <th>3</th>\n",
       "      <td>Alita: Battle Angel(2019)</td>\n",
       "      <td>PG-13</td>\n",
       "      <td>122 min</td>\n",
       "      <td>Action, Adventure, Romance</td>\n",
       "      <td>7.6</td>\n",
       "      <td>54</td>\n",
       "      <td>72,938</td>\n",
       "    </tr>\n",
       "    <tr>\n",
       "      <th>4</th>\n",
       "      <td>A Star Is Born(2018)</td>\n",
       "      <td>R</td>\n",
       "      <td>136 min</td>\n",
       "      <td>Drama, Music, Romance</td>\n",
       "      <td>7.8</td>\n",
       "      <td>88</td>\n",
       "      <td>215,338</td>\n",
       "    </tr>\n",
       "  </tbody>\n",
       "</table>\n",
       "</div>"
      ],
      "text/plain": [
       "                        Name Certificate  Runtime                       Genre  \\\n",
       "0       Captain Marvel(2019)       PG-13  123 min   Action, Adventure, Sci-Fi   \n",
       "1    Bohemian Rhapsody(2018)       PG-13  134 min     Biography, Drama, Music   \n",
       "2           Green Book(2018)       PG-13  130 min    Biography, Comedy, Drama   \n",
       "3  Alita: Battle Angel(2019)       PG-13  122 min  Action, Adventure, Romance   \n",
       "4       A Star Is Born(2018)           R  136 min       Drama, Music, Romance   \n",
       "\n",
       "   Rating  Metascore    Votes  \n",
       "0     7.1         64  138,904  \n",
       "1     8.1         49  298,507  \n",
       "2     8.3         69  138,886  \n",
       "3     7.6         54   72,938  \n",
       "4     7.8         88  215,338  "
      ]
     },
     "execution_count": 19,
     "metadata": {},
     "output_type": "execute_result"
    }
   ],
   "source": [
    "thriller = pd.read_csv('Thriller.csv')\n",
    "thriller.head()"
   ]
  },
  {
   "cell_type": "code",
   "execution_count": 21,
   "metadata": {},
   "outputs": [
    {
     "data": {
      "text/html": [
       "<div>\n",
       "<style scoped>\n",
       "    .dataframe tbody tr th:only-of-type {\n",
       "        vertical-align: middle;\n",
       "    }\n",
       "\n",
       "    .dataframe tbody tr th {\n",
       "        vertical-align: top;\n",
       "    }\n",
       "\n",
       "    .dataframe thead th {\n",
       "        text-align: right;\n",
       "    }\n",
       "</style>\n",
       "<table border=\"1\" class=\"dataframe\">\n",
       "  <thead>\n",
       "    <tr style=\"text-align: right;\">\n",
       "      <th></th>\n",
       "      <th>Name</th>\n",
       "    </tr>\n",
       "    <tr>\n",
       "      <th>Certificate</th>\n",
       "      <th></th>\n",
       "    </tr>\n",
       "  </thead>\n",
       "  <tbody>\n",
       "    <tr>\n",
       "      <th>Not Rated</th>\n",
       "      <td>32</td>\n",
       "    </tr>\n",
       "    <tr>\n",
       "      <th>PG</th>\n",
       "      <td>192</td>\n",
       "    </tr>\n",
       "    <tr>\n",
       "      <th>PG-13</th>\n",
       "      <td>896</td>\n",
       "    </tr>\n",
       "    <tr>\n",
       "      <th>R</th>\n",
       "      <td>480</td>\n",
       "    </tr>\n",
       "  </tbody>\n",
       "</table>\n",
       "</div>"
      ],
      "text/plain": [
       "             Name\n",
       "Certificate      \n",
       "Not Rated      32\n",
       "PG            192\n",
       "PG-13         896\n",
       "R             480"
      ]
     },
     "execution_count": 21,
     "metadata": {},
     "output_type": "execute_result"
    }
   ],
   "source": [
    "thriller[['Certificate','Name']].groupby('Certificate').count()"
   ]
  },
  {
   "cell_type": "code",
   "execution_count": 22,
   "metadata": {},
   "outputs": [
    {
     "data": {
      "text/plain": [
       "Text(0, 0.5, 'Title Count')"
      ]
     },
     "execution_count": 22,
     "metadata": {},
     "output_type": "execute_result"
    },
    {
     "data": {
      "image/png": "[encoded data removed]",
      "text/plain": [
       "<Figure size 432x288 with 1 Axes>"
      ]
     },
     "metadata": {
      "needs_background": "light"
     },
     "output_type": "display_data"
    }
   ],
   "source": [
    "horror[['Certificate','Name']].groupby('Certificate').count().plot(kind='bar', title='Movie Certificate Visualization')\n",
    "plt.xlabel('Moive Certificate')\n",
    "plt.ylabel('Title Count')"
   ]
  },
  {
   "cell_type": "code",
   "execution_count": null,
   "metadata": {},
   "outputs": [],
   "source": []
  }
 ],
 "metadata": {
  "kernelspec": {
   "display_name": "Python 3",
   "language": "python",
   "name": "python3"
  },
  "language_info": {
   "codemirror_mode": {
    "name": "ipython",
    "version": 3
   },
   "file_extension": ".py",
   "mimetype": "text/x-python",
   "name": "python",
   "nbconvert_exporter": "python",
   "pygments_lexer": "ipython3",
   "version": "3.7.1"
  }
 },
 "nbformat": 4,
 "nbformat_minor": 2
}
