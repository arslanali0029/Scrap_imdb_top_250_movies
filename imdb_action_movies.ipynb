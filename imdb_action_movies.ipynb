{
 "cells": [
  {
   "cell_type": "code",
   "execution_count": 5,
   "metadata": {},
   "outputs": [
    {
     "name": "stdout",
     "output_type": "stream",
     "text": [
      "50\n"
     ]
    }
   ],
   "source": [
    "from bs4 import BeautifulSoup as soup\n",
    "import requests as req\n",
    "import pandas as pd\n",
    "req_url = req.get('https://www.imdb.com/search/title?title_type=feature&num_votes=25000,&genres=action&start=0&ref_=adv_nxt')\n",
    "Content = req_url.content\n",
    "\n",
    "page = soup(Content,'html.parser')\n",
    "\n",
    "#print(soup.prettify(movies_container[0]))\n",
    "\n",
    "movies_container = page.findAll('div',{'class':'lister-item-content'})\n",
    "print(len(movies_container))"
   ]
  },
  {
   "cell_type": "code",
   "execution_count": 6,
   "metadata": {
    "scrolled": false
   },
   "outputs": [],
   "source": [
    "#print(soup.prettify(movies_container[0]))"
   ]
  },
  {
   "cell_type": "code",
   "execution_count": 7,
   "metadata": {},
   "outputs": [],
   "source": [
    "DataSet = []\n",
    "number_of_moives = len(movies_container)\n",
    "\n",
    "i = 0\n",
    "while(i<number_of_moives):\n",
    "    movies = {}\n",
    "    m = movies_container[i]\n",
    "    try:\n",
    "        movies['Name'] = m.find(class_='lister-item-header').get_text(strip=True)\n",
    "    except AttributeError:\n",
    "        moves['Name'] = None\n",
    "    try:\n",
    "        movies['Certificate'] = m.find(class_='certificate').get_text(strip=True)\n",
    "    except AttributeError:\n",
    "        movies['Certificate'] = None\n",
    "    try:\n",
    "        movies['Runtime'] = m.find(class_='runtime').get_text(strip=True)\n",
    "    except AttributeError:\n",
    "        movies['Runtime'] = None\n",
    "    try:\n",
    "        movies['Genre'] = m.find(class_='genre').get_text(strip=True)\n",
    "    except AttributeError:\n",
    "        movies['Genre'] = None\n",
    "    try:\n",
    "        movies['Rating'] = m.find(class_='inline-block ratings-imdb-rating').get_text(strip=True)\n",
    "    except AttributeError:\n",
    "        movies['Rating'] = None\n",
    "    try:\n",
    "        movies['Metascore'] = m.find(class_='inline-block ratings-metascore').get_text(strip=True)\n",
    "    except AttributeError:\n",
    "        movies['Metascore'] = None\n",
    "    try:\n",
    "        votes_and_gross = m.find(class_='sort-num_votes-visible').get_text(strip=True)\n",
    "        v= votes_and_gross.split('|')\n",
    "        n = v[0].split(':')#\n",
    "        movies['Votes'] = n[1]\n",
    "    except AttributeError:\n",
    "        movies['Votes'] = None\n",
    "    i = i + 1\n",
    "    DataSet.append(movies)\n",
    "\n",
    "dataframe = pd.DataFrame(DataSet)\n",
    "dataframe['Name'] = dataframe['Name'].astype(str).str[2:]\n",
    "dataframe['Metascore'] = dataframe['Metascore'].astype(str).str[0:2]"
   ]
  },
  {
   "cell_type": "code",
   "execution_count": 8,
   "metadata": {},
   "outputs": [
    {
     "data": {
      "text/html": [
       "<div>\n",
       "<style scoped>\n",
       "    .dataframe tbody tr th:only-of-type {\n",
       "        vertical-align: middle;\n",
       "    }\n",
       "\n",
       "    .dataframe tbody tr th {\n",
       "        vertical-align: top;\n",
       "    }\n",
       "\n",
       "    .dataframe thead th {\n",
       "        text-align: right;\n",
       "    }\n",
       "</style>\n",
       "<table border=\"1\" class=\"dataframe\">\n",
       "  <thead>\n",
       "    <tr style=\"text-align: right;\">\n",
       "      <th></th>\n",
       "      <th>Name</th>\n",
       "      <th>Certificate</th>\n",
       "      <th>Runtime</th>\n",
       "      <th>Genre</th>\n",
       "      <th>Rating</th>\n",
       "      <th>Metascore</th>\n",
       "      <th>Votes</th>\n",
       "    </tr>\n",
       "  </thead>\n",
       "  <tbody>\n",
       "    <tr>\n",
       "      <th>0</th>\n",
       "      <td>Alita: Battle Angel(2019)</td>\n",
       "      <td>PG-13</td>\n",
       "      <td>122 min</td>\n",
       "      <td>Action, Adventure, Romance</td>\n",
       "      <td>7.6</td>\n",
       "      <td>54</td>\n",
       "      <td>62,445</td>\n",
       "    </tr>\n",
       "    <tr>\n",
       "      <th>1</th>\n",
       "      <td>Spider-Man: Into the Spider-Verse(2018)</td>\n",
       "      <td>PG</td>\n",
       "      <td>117 min</td>\n",
       "      <td>Animation, Action, Adventure</td>\n",
       "      <td>8.6</td>\n",
       "      <td>87</td>\n",
       "      <td>128,726</td>\n",
       "    </tr>\n",
       "    <tr>\n",
       "      <th>2</th>\n",
       "      <td>Black Panther(2018)</td>\n",
       "      <td>PG-13</td>\n",
       "      <td>134 min</td>\n",
       "      <td>Action, Adventure, Sci-Fi</td>\n",
       "      <td>7.3</td>\n",
       "      <td>88</td>\n",
       "      <td>470,688</td>\n",
       "    </tr>\n",
       "    <tr>\n",
       "      <th>3</th>\n",
       "      <td>Polar(2019)</td>\n",
       "      <td>None</td>\n",
       "      <td>118 min</td>\n",
       "      <td>Action, Crime, Drama</td>\n",
       "      <td>6.3</td>\n",
       "      <td>19</td>\n",
       "      <td>43,595</td>\n",
       "    </tr>\n",
       "    <tr>\n",
       "      <th>4</th>\n",
       "      <td>Aquaman(2018)</td>\n",
       "      <td>PG-13</td>\n",
       "      <td>143 min</td>\n",
       "      <td>Action, Adventure, Fantasy</td>\n",
       "      <td>7.3</td>\n",
       "      <td>55</td>\n",
       "      <td>175,608</td>\n",
       "    </tr>\n",
       "  </tbody>\n",
       "</table>\n",
       "</div>"
      ],
      "text/plain": [
       "                                      Name Certificate  Runtime  \\\n",
       "0                Alita: Battle Angel(2019)       PG-13  122 min   \n",
       "1  Spider-Man: Into the Spider-Verse(2018)          PG  117 min   \n",
       "2                      Black Panther(2018)       PG-13  134 min   \n",
       "3                              Polar(2019)        None  118 min   \n",
       "4                            Aquaman(2018)       PG-13  143 min   \n",
       "\n",
       "                          Genre Rating Metascore    Votes  \n",
       "0    Action, Adventure, Romance    7.6        54   62,445  \n",
       "1  Animation, Action, Adventure    8.6        87  128,726  \n",
       "2     Action, Adventure, Sci-Fi    7.3        88  470,688  \n",
       "3          Action, Crime, Drama    6.3        19   43,595  \n",
       "4    Action, Adventure, Fantasy    7.3        55  175,608  "
      ]
     },
     "execution_count": 8,
     "metadata": {},
     "output_type": "execute_result"
    }
   ],
   "source": [
    "col_names = [\"Name\",\"Certificate\",'Runtime',\"Genre\",\"Rating\",'Metascore',\"Votes\"]\n",
    "dataframe = dataframe.reindex(columns=col_names)\n",
    "dataframe.to_csv(\"Output.csv\")\n",
    "dataframe.head()"
   ]
  },
  {
   "cell_type": "code",
   "execution_count": null,
   "metadata": {},
   "outputs": [],
   "source": []
  }
 ],
 "metadata": {
  "kernelspec": {
   "display_name": "Python 3",
   "language": "python",
   "name": "python3"
  },
  "language_info": {
   "codemirror_mode": {
    "name": "ipython",
    "version": 3
   },
   "file_extension": ".py",
   "mimetype": "text/x-python",
   "name": "python",
   "nbconvert_exporter": "python",
   "pygments_lexer": "ipython3",
   "version": "3.7.1"
  }
 },
 "nbformat": 4,
 "nbformat_minor": 2
}
