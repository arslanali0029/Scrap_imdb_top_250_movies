{
 "cells": [
  {
   "cell_type": "code",
   "execution_count": 30,
   "metadata": {},
   "outputs": [
    {
     "name": "stdout",
     "output_type": "stream",
     "text": [
      "25  Number of pages were found\n"
     ]
    }
   ],
   "source": [
    "from bs4 import BeautifulSoup as soup\n",
    "import requests as req\n",
    "import pandas as pd\n",
    "main_url = 'https://www.imdb.com/search/title?title_type=feature&num_votes=25000,&genres=action&start='\n",
    "base_url = req.get(main_url)\n",
    "Content = base_url.content\n",
    "\n",
    "page = soup(Content,'html.parser')\n",
    "\n",
    "#print(soup.prettify(movies_container[0]))\n",
    "div = page.find('div',{'class':'desc'})\n",
    "txt = div.find('span').text\n",
    "txt_str = txt.split()\n",
    "page_number = txt_str[2]\n",
    "_str = page_number[0]+page_number[2:]\n",
    "total_pages = int(int(_str)/50)\n",
    "print(total_pages,\" Number of pages were found\")\n",
    "#movies_container = page.findAll('div',{'class':'lister-item-content'})\n",
    "#print(len(movies_container))"
   ]
  },
  {
   "cell_type": "code",
   "execution_count": 31,
   "metadata": {},
   "outputs": [
    {
     "name": "stdout",
     "output_type": "stream",
     "text": [
      "https://www.imdb.com/search/title?title_type=feature&num_votes=25000,&genres=action&start=1\n"
     ]
    }
   ],
   "source": [
    "url = main_url+str(page_num)\n",
    "print(url)"
   ]
  },
  {
   "cell_type": "code",
   "execution_count": null,
   "metadata": {},
   "outputs": [],
   "source": [
    "p = 0\n",
    "page_num = 1\n",
    "while(p<total_pages):\n",
    "    next_link = main_url+str(page_num)\n",
    "    next_page = req.get(next_link)\n",
    "    Cont=next_page.content\n",
    "    soup_page=soup(Cont,\"html.parser\")\n",
    "    movies_container=soup_page.find_all(\"div\",{\"class\":\"lister-item-content\"})\n",
    "    page_num = page_num+50\n",
    "    p = p+1"
   ]
  },
  {
   "cell_type": "code",
   "execution_count": null,
   "metadata": {},
   "outputs": [],
   "source": []
  },
  {
   "cell_type": "code",
   "execution_count": null,
   "metadata": {
    "scrolled": false
   },
   "outputs": [],
   "source": [
    "\n",
    " #url_reg=req.get(base_url+str(next_page)+\".html\")"
   ]
  },
  {
   "cell_type": "code",
   "execution_count": null,
   "metadata": {},
   "outputs": [],
   "source": []
  },
  {
   "cell_type": "code",
   "execution_count": 43,
   "metadata": {},
   "outputs": [],
   "source": [
    "DataSet = []\n",
    "p = 0\n",
    "page_num = 1\n",
    "while(p<total_pages):\n",
    "    next_link = main_url+str(page_num)\n",
    "    next_page = req.get(next_link)\n",
    "    Cont=next_page.content\n",
    "    soup_page=soup(Cont,\"html.parser\")\n",
    "    movies_container=soup_page.find_all(\"div\",{\"class\":\"lister-item-content\"})\n",
    "    number_of_moives = len(movies_container)\n",
    "    i = 0\n",
    "    while(i<number_of_moives):\n",
    "        movies = {}\n",
    "        m = movies_container[i]\n",
    "        try:\n",
    "            movies['Name'] = m.find(class_='lister-item-header').get_text(strip=True)\n",
    "        except AttributeError:\n",
    "            moves['Name'] = None\n",
    "        try:\n",
    "            movies['Certificate'] = m.find(class_='certificate').get_text(strip=True)\n",
    "        except AttributeError:\n",
    "            movies['Certificate'] = None\n",
    "        try:\n",
    "            movies['Runtime'] = m.find(class_='runtime').get_text(strip=True)\n",
    "        except AttributeError:\n",
    "            movies['Runtime'] = None\n",
    "        try:\n",
    "            movies['Genre'] = m.find(class_='genre').get_text(strip=True)\n",
    "        except AttributeError:\n",
    "            movies['Genre'] = None\n",
    "        try:\n",
    "            movies['Rating'] = m.find(class_='inline-block ratings-imdb-rating').get_text(strip=True)\n",
    "        except AttributeError:\n",
    "            movies['Rating'] = None\n",
    "        try:\n",
    "            movies['Metascore'] = m.find(class_='inline-block ratings-metascore').get_text(strip=True)\n",
    "        except AttributeError:\n",
    "            movies['Metascore'] = None\n",
    "        try:\n",
    "            votes_and_gross = m.find(class_='sort-num_votes-visible').get_text(strip=True)\n",
    "            v= votes_and_gross.split('|')\n",
    "            n = v[0].split(':')#\n",
    "            movies['Votes'] = n[1]\n",
    "        except AttributeError:\n",
    "            movies['Votes'] = None\n",
    "        i = i + 1\n",
    "        DataSet.append(movies)\n",
    "    page_num = page_num+50\n",
    "    p = p+1\n",
    "\n",
    "dataframe = pd.DataFrame(DataSet)\n",
    "dataframe['Name'] = dataframe['Name'].astype(str).str[2:]\n",
    "dataframe['Metascore'] = dataframe['Metascore'].astype(str).str[0:2]"
   ]
  },
  {
   "cell_type": "code",
   "execution_count": 44,
   "metadata": {},
   "outputs": [
    {
     "data": {
      "text/plain": [
       "(1250, 7)"
      ]
     },
     "execution_count": 44,
     "metadata": {},
     "output_type": "execute_result"
    }
   ],
   "source": [
    "dataframe.shape"
   ]
  },
  {
   "cell_type": "code",
   "execution_count": 45,
   "metadata": {},
   "outputs": [
    {
     "data": {
      "text/html": [
       "<div>\n",
       "<style scoped>\n",
       "    .dataframe tbody tr th:only-of-type {\n",
       "        vertical-align: middle;\n",
       "    }\n",
       "\n",
       "    .dataframe tbody tr th {\n",
       "        vertical-align: top;\n",
       "    }\n",
       "\n",
       "    .dataframe thead th {\n",
       "        text-align: right;\n",
       "    }\n",
       "</style>\n",
       "<table border=\"1\" class=\"dataframe\">\n",
       "  <thead>\n",
       "    <tr style=\"text-align: right;\">\n",
       "      <th></th>\n",
       "      <th>Name</th>\n",
       "      <th>Certificate</th>\n",
       "      <th>Runtime</th>\n",
       "      <th>Genre</th>\n",
       "      <th>Rating</th>\n",
       "      <th>Metascore</th>\n",
       "      <th>Votes</th>\n",
       "    </tr>\n",
       "  </thead>\n",
       "  <tbody>\n",
       "    <tr>\n",
       "      <th>0</th>\n",
       "      <td>Alita: Battle Angel(2019)</td>\n",
       "      <td>PG-13</td>\n",
       "      <td>122 min</td>\n",
       "      <td>Action, Adventure, Romance</td>\n",
       "      <td>7.6</td>\n",
       "      <td>54</td>\n",
       "      <td>65,522</td>\n",
       "    </tr>\n",
       "    <tr>\n",
       "      <th>1</th>\n",
       "      <td>Spider-Man: Into the Spider-Verse(2018)</td>\n",
       "      <td>PG</td>\n",
       "      <td>117 min</td>\n",
       "      <td>Animation, Action, Adventure</td>\n",
       "      <td>8.6</td>\n",
       "      <td>87</td>\n",
       "      <td>132,509</td>\n",
       "    </tr>\n",
       "    <tr>\n",
       "      <th>2</th>\n",
       "      <td>Black Panther(2018)</td>\n",
       "      <td>PG-13</td>\n",
       "      <td>134 min</td>\n",
       "      <td>Action, Adventure, Sci-Fi</td>\n",
       "      <td>7.3</td>\n",
       "      <td>88</td>\n",
       "      <td>472,231</td>\n",
       "    </tr>\n",
       "    <tr>\n",
       "      <th>3</th>\n",
       "      <td>Polar(2019)</td>\n",
       "      <td>None</td>\n",
       "      <td>118 min</td>\n",
       "      <td>Action, Crime, Drama</td>\n",
       "      <td>6.3</td>\n",
       "      <td>19</td>\n",
       "      <td>44,237</td>\n",
       "    </tr>\n",
       "    <tr>\n",
       "      <th>4</th>\n",
       "      <td>Aquaman(2018)</td>\n",
       "      <td>PG-13</td>\n",
       "      <td>143 min</td>\n",
       "      <td>Action, Adventure, Fantasy</td>\n",
       "      <td>7.3</td>\n",
       "      <td>55</td>\n",
       "      <td>180,136</td>\n",
       "    </tr>\n",
       "  </tbody>\n",
       "</table>\n",
       "</div>"
      ],
      "text/plain": [
       "                                      Name Certificate  Runtime  \\\n",
       "0                Alita: Battle Angel(2019)       PG-13  122 min   \n",
       "1  Spider-Man: Into the Spider-Verse(2018)          PG  117 min   \n",
       "2                      Black Panther(2018)       PG-13  134 min   \n",
       "3                              Polar(2019)        None  118 min   \n",
       "4                            Aquaman(2018)       PG-13  143 min   \n",
       "\n",
       "                          Genre Rating Metascore    Votes  \n",
       "0    Action, Adventure, Romance    7.6        54   65,522  \n",
       "1  Animation, Action, Adventure    8.6        87  132,509  \n",
       "2     Action, Adventure, Sci-Fi    7.3        88  472,231  \n",
       "3          Action, Crime, Drama    6.3        19   44,237  \n",
       "4    Action, Adventure, Fantasy    7.3        55  180,136  "
      ]
     },
     "execution_count": 45,
     "metadata": {},
     "output_type": "execute_result"
    }
   ],
   "source": [
    "col_names = [\"Name\",\"Certificate\",'Runtime',\"Genre\",\"Rating\",'Metascore',\"Votes\"]\n",
    "dataframe = dataframe.reindex(columns=col_names)\n",
    "dataframe.to_csv(\"Output.csv\")\n",
    "dataframe.head()"
   ]
  },
  {
   "cell_type": "code",
   "execution_count": null,
   "metadata": {},
   "outputs": [],
   "source": []
  }
 ],
 "metadata": {
  "kernelspec": {
   "display_name": "Python 3",
   "language": "python",
   "name": "python3"
  },
  "language_info": {
   "codemirror_mode": {
    "name": "ipython",
    "version": 3
   },
   "file_extension": ".py",
   "mimetype": "text/x-python",
   "name": "python",
   "nbconvert_exporter": "python",
   "pygments_lexer": "ipython3",
   "version": "3.7.1"
  }
 },
 "nbformat": 4,
 "nbformat_minor": 2
}
